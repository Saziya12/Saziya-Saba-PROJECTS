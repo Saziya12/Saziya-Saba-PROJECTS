{
 "cells": [
  {
   "cell_type": "markdown",
   "id": "e5d35996-ddc9-4f3b-84eb-8c65c04d6298",
   "metadata": {},
   "source": [
    "**Aim:**\n",
    "To Analyze the cost of living by countries.\n",
    "1) Top 10 most expensive and least expensive countries to live in.\n",
    "2) Countries with the highest and lowest local purchasing power.\n",
    "3) Correlation between cost of living and local purchasing power.\n",
    "4) Countries with the biggest disparity between grocery costs and restaurant prices."
   ]
  },
  {
   "cell_type": "code",
   "execution_count": 1,
   "id": "b9c0161d-cdf6-45e4-9f72-a285988c542d",
   "metadata": {},
   "outputs": [],
   "source": [
    "import pandas as pd"
   ]
  },
  {
   "cell_type": "code",
   "execution_count": 6,
   "id": "44448f96-9f16-417d-94d8-06a7e926a39e",
   "metadata": {},
   "outputs": [
    {
     "name": "stdout",
     "output_type": "stream",
     "text": [
      "Requirement already satisfied: matplotlib in c:\\users\\pc\\appdata\\local\\programs\\python\\python312\\lib\\site-packages (3.9.2)\n",
      "Requirement already satisfied: contourpy>=1.0.1 in c:\\users\\pc\\appdata\\local\\programs\\python\\python312\\lib\\site-packages (from matplotlib) (1.3.0)\n",
      "Requirement already satisfied: cycler>=0.10 in c:\\users\\pc\\appdata\\local\\programs\\python\\python312\\lib\\site-packages (from matplotlib) (0.12.1)\n",
      "Requirement already satisfied: fonttools>=4.22.0 in c:\\users\\pc\\appdata\\local\\programs\\python\\python312\\lib\\site-packages (from matplotlib) (4.53.1)\n",
      "Requirement already satisfied: kiwisolver>=1.3.1 in c:\\users\\pc\\appdata\\local\\programs\\python\\python312\\lib\\site-packages (from matplotlib) (1.4.5)\n",
      "Requirement already satisfied: numpy>=1.23 in c:\\users\\pc\\appdata\\local\\programs\\python\\python312\\lib\\site-packages (from matplotlib) (2.1.0)\n",
      "Requirement already satisfied: packaging>=20.0 in c:\\users\\pc\\appdata\\local\\programs\\python\\python312\\lib\\site-packages (from matplotlib) (24.1)\n",
      "Requirement already satisfied: pillow>=8 in c:\\users\\pc\\appdata\\local\\programs\\python\\python312\\lib\\site-packages (from matplotlib) (10.4.0)\n",
      "Requirement already satisfied: pyparsing>=2.3.1 in c:\\users\\pc\\appdata\\local\\programs\\python\\python312\\lib\\site-packages (from matplotlib) (3.1.4)\n",
      "Requirement already satisfied: python-dateutil>=2.7 in c:\\users\\pc\\appdata\\local\\programs\\python\\python312\\lib\\site-packages (from matplotlib) (2.9.0.post0)\n",
      "Requirement already satisfied: six>=1.5 in c:\\users\\pc\\appdata\\local\\programs\\python\\python312\\lib\\site-packages (from python-dateutil>=2.7->matplotlib) (1.16.0)\n"
     ]
    }
   ],
   "source": [
    "!pip install matplotlib"
   ]
  },
  {
   "cell_type": "code",
   "execution_count": 7,
   "id": "cdfa46dd-be1f-4c49-bc8f-da3cf3de06e8",
   "metadata": {},
   "outputs": [],
   "source": [
    "import matplotlib"
   ]
  },
  {
   "cell_type": "code",
   "execution_count": 9,
   "id": "be185c35-ec70-486f-af25-a7bfb0a5eb23",
   "metadata": {},
   "outputs": [],
   "source": [
    "from matplotlib import pyplot as plt"
   ]
  },
  {
   "cell_type": "code",
   "execution_count": 12,
   "id": "9729a817-7482-4021-a6e9-d4cb50cb3ca6",
   "metadata": {},
   "outputs": [],
   "source": [
    "df=pd.read_csv(r\"C:/Users/Pc/Documents/Cost_of_Living_Index_by_Country_2024.csv\")"
   ]
  },
  {
   "cell_type": "code",
   "execution_count": 13,
   "id": "9b3de670-19a8-4f41-9dd4-5148cb667096",
   "metadata": {},
   "outputs": [
    {
     "data": {
      "text/html": [
       "<div>\n",
       "<style scoped>\n",
       "    .dataframe tbody tr th:only-of-type {\n",
       "        vertical-align: middle;\n",
       "    }\n",
       "\n",
       "    .dataframe tbody tr th {\n",
       "        vertical-align: top;\n",
       "    }\n",
       "\n",
       "    .dataframe thead th {\n",
       "        text-align: right;\n",
       "    }\n",
       "</style>\n",
       "<table border=\"1\" class=\"dataframe\">\n",
       "  <thead>\n",
       "    <tr style=\"text-align: right;\">\n",
       "      <th></th>\n",
       "      <th>Rank</th>\n",
       "      <th>Country</th>\n",
       "      <th>Cost of Living Index</th>\n",
       "      <th>Rent Index</th>\n",
       "      <th>Cost of Living Plus Rent Index</th>\n",
       "      <th>Groceries Index</th>\n",
       "      <th>Restaurant Price Index</th>\n",
       "      <th>Local Purchasing Power Index</th>\n",
       "    </tr>\n",
       "  </thead>\n",
       "  <tbody>\n",
       "    <tr>\n",
       "      <th>0</th>\n",
       "      <td>1</td>\n",
       "      <td>Switzerland</td>\n",
       "      <td>101.1</td>\n",
       "      <td>46.5</td>\n",
       "      <td>74.9</td>\n",
       "      <td>109.1</td>\n",
       "      <td>97.0</td>\n",
       "      <td>158.7</td>\n",
       "    </tr>\n",
       "    <tr>\n",
       "      <th>1</th>\n",
       "      <td>2</td>\n",
       "      <td>Bahamas</td>\n",
       "      <td>85.0</td>\n",
       "      <td>36.7</td>\n",
       "      <td>61.8</td>\n",
       "      <td>81.6</td>\n",
       "      <td>83.3</td>\n",
       "      <td>54.6</td>\n",
       "    </tr>\n",
       "    <tr>\n",
       "      <th>2</th>\n",
       "      <td>3</td>\n",
       "      <td>Iceland</td>\n",
       "      <td>83.0</td>\n",
       "      <td>39.2</td>\n",
       "      <td>62.0</td>\n",
       "      <td>88.4</td>\n",
       "      <td>86.8</td>\n",
       "      <td>120.3</td>\n",
       "    </tr>\n",
       "    <tr>\n",
       "      <th>3</th>\n",
       "      <td>4</td>\n",
       "      <td>Singapore</td>\n",
       "      <td>76.7</td>\n",
       "      <td>67.2</td>\n",
       "      <td>72.1</td>\n",
       "      <td>74.6</td>\n",
       "      <td>50.4</td>\n",
       "      <td>111.1</td>\n",
       "    </tr>\n",
       "    <tr>\n",
       "      <th>4</th>\n",
       "      <td>5</td>\n",
       "      <td>Barbados</td>\n",
       "      <td>76.6</td>\n",
       "      <td>19.0</td>\n",
       "      <td>48.9</td>\n",
       "      <td>80.8</td>\n",
       "      <td>69.4</td>\n",
       "      <td>43.5</td>\n",
       "    </tr>\n",
       "    <tr>\n",
       "      <th>...</th>\n",
       "      <td>...</td>\n",
       "      <td>...</td>\n",
       "      <td>...</td>\n",
       "      <td>...</td>\n",
       "      <td>...</td>\n",
       "      <td>...</td>\n",
       "      <td>...</td>\n",
       "      <td>...</td>\n",
       "    </tr>\n",
       "    <tr>\n",
       "      <th>116</th>\n",
       "      <td>117</td>\n",
       "      <td>Bangladesh</td>\n",
       "      <td>22.5</td>\n",
       "      <td>2.4</td>\n",
       "      <td>12.8</td>\n",
       "      <td>25.7</td>\n",
       "      <td>12.8</td>\n",
       "      <td>33.1</td>\n",
       "    </tr>\n",
       "    <tr>\n",
       "      <th>117</th>\n",
       "      <td>118</td>\n",
       "      <td>India</td>\n",
       "      <td>21.2</td>\n",
       "      <td>5.6</td>\n",
       "      <td>13.7</td>\n",
       "      <td>23.8</td>\n",
       "      <td>15.1</td>\n",
       "      <td>82.6</td>\n",
       "    </tr>\n",
       "    <tr>\n",
       "      <th>118</th>\n",
       "      <td>119</td>\n",
       "      <td>Egypt</td>\n",
       "      <td>21.0</td>\n",
       "      <td>3.7</td>\n",
       "      <td>12.7</td>\n",
       "      <td>21.2</td>\n",
       "      <td>16.2</td>\n",
       "      <td>20.0</td>\n",
       "    </tr>\n",
       "    <tr>\n",
       "      <th>119</th>\n",
       "      <td>120</td>\n",
       "      <td>Libya</td>\n",
       "      <td>20.4</td>\n",
       "      <td>4.3</td>\n",
       "      <td>12.7</td>\n",
       "      <td>22.2</td>\n",
       "      <td>15.2</td>\n",
       "      <td>42.0</td>\n",
       "    </tr>\n",
       "    <tr>\n",
       "      <th>120</th>\n",
       "      <td>121</td>\n",
       "      <td>Pakistan</td>\n",
       "      <td>18.8</td>\n",
       "      <td>2.8</td>\n",
       "      <td>11.1</td>\n",
       "      <td>17.5</td>\n",
       "      <td>12.9</td>\n",
       "      <td>29.1</td>\n",
       "    </tr>\n",
       "  </tbody>\n",
       "</table>\n",
       "<p>121 rows × 8 columns</p>\n",
       "</div>"
      ],
      "text/plain": [
       "     Rank      Country  Cost of Living Index  Rent Index  \\\n",
       "0       1  Switzerland                 101.1        46.5   \n",
       "1       2      Bahamas                  85.0        36.7   \n",
       "2       3      Iceland                  83.0        39.2   \n",
       "3       4    Singapore                  76.7        67.2   \n",
       "4       5     Barbados                  76.6        19.0   \n",
       "..    ...          ...                   ...         ...   \n",
       "116   117   Bangladesh                  22.5         2.4   \n",
       "117   118        India                  21.2         5.6   \n",
       "118   119        Egypt                  21.0         3.7   \n",
       "119   120        Libya                  20.4         4.3   \n",
       "120   121     Pakistan                  18.8         2.8   \n",
       "\n",
       "     Cost of Living Plus Rent Index  Groceries Index  Restaurant Price Index  \\\n",
       "0                              74.9            109.1                    97.0   \n",
       "1                              61.8             81.6                    83.3   \n",
       "2                              62.0             88.4                    86.8   \n",
       "3                              72.1             74.6                    50.4   \n",
       "4                              48.9             80.8                    69.4   \n",
       "..                              ...              ...                     ...   \n",
       "116                            12.8             25.7                    12.8   \n",
       "117                            13.7             23.8                    15.1   \n",
       "118                            12.7             21.2                    16.2   \n",
       "119                            12.7             22.2                    15.2   \n",
       "120                            11.1             17.5                    12.9   \n",
       "\n",
       "     Local Purchasing Power Index  \n",
       "0                           158.7  \n",
       "1                            54.6  \n",
       "2                           120.3  \n",
       "3                           111.1  \n",
       "4                            43.5  \n",
       "..                            ...  \n",
       "116                          33.1  \n",
       "117                          82.6  \n",
       "118                          20.0  \n",
       "119                          42.0  \n",
       "120                          29.1  \n",
       "\n",
       "[121 rows x 8 columns]"
      ]
     },
     "execution_count": 13,
     "metadata": {},
     "output_type": "execute_result"
    }
   ],
   "source": [
    "df"
   ]
  },
  {
   "cell_type": "code",
   "execution_count": 14,
   "id": "e19bc5cc-4fc6-40b2-9b55-346be58751d1",
   "metadata": {},
   "outputs": [
    {
     "name": "stdout",
     "output_type": "stream",
     "text": [
      "<class 'pandas.core.frame.DataFrame'>\n",
      "RangeIndex: 121 entries, 0 to 120\n",
      "Data columns (total 8 columns):\n",
      " #   Column                          Non-Null Count  Dtype  \n",
      "---  ------                          --------------  -----  \n",
      " 0   Rank                            121 non-null    int64  \n",
      " 1   Country                         121 non-null    object \n",
      " 2   Cost of Living Index            121 non-null    float64\n",
      " 3   Rent Index                      121 non-null    float64\n",
      " 4   Cost of Living Plus Rent Index  121 non-null    float64\n",
      " 5   Groceries Index                 121 non-null    float64\n",
      " 6   Restaurant Price Index          121 non-null    float64\n",
      " 7   Local Purchasing Power Index    121 non-null    float64\n",
      "dtypes: float64(6), int64(1), object(1)\n",
      "memory usage: 7.7+ KB\n"
     ]
    }
   ],
   "source": [
    "df.info()"
   ]
  },
  {
   "cell_type": "code",
   "execution_count": 15,
   "id": "498d4f25-187f-47e3-bdef-63632a71dc0d",
   "metadata": {},
   "outputs": [
    {
     "data": {
      "text/html": [
       "<div>\n",
       "<style scoped>\n",
       "    .dataframe tbody tr th:only-of-type {\n",
       "        vertical-align: middle;\n",
       "    }\n",
       "\n",
       "    .dataframe tbody tr th {\n",
       "        vertical-align: top;\n",
       "    }\n",
       "\n",
       "    .dataframe thead th {\n",
       "        text-align: right;\n",
       "    }\n",
       "</style>\n",
       "<table border=\"1\" class=\"dataframe\">\n",
       "  <thead>\n",
       "    <tr style=\"text-align: right;\">\n",
       "      <th></th>\n",
       "      <th>Rank</th>\n",
       "      <th>Country</th>\n",
       "      <th>Cost of Living Index</th>\n",
       "      <th>Rent Index</th>\n",
       "      <th>Cost of Living Plus Rent Index</th>\n",
       "      <th>Groceries Index</th>\n",
       "      <th>Restaurant Price Index</th>\n",
       "      <th>Local Purchasing Power Index</th>\n",
       "    </tr>\n",
       "  </thead>\n",
       "  <tbody>\n",
       "    <tr>\n",
       "      <th>0</th>\n",
       "      <td>1</td>\n",
       "      <td>Switzerland</td>\n",
       "      <td>101.1</td>\n",
       "      <td>46.5</td>\n",
       "      <td>74.9</td>\n",
       "      <td>109.1</td>\n",
       "      <td>97.0</td>\n",
       "      <td>158.7</td>\n",
       "    </tr>\n",
       "    <tr>\n",
       "      <th>1</th>\n",
       "      <td>2</td>\n",
       "      <td>Bahamas</td>\n",
       "      <td>85.0</td>\n",
       "      <td>36.7</td>\n",
       "      <td>61.8</td>\n",
       "      <td>81.6</td>\n",
       "      <td>83.3</td>\n",
       "      <td>54.6</td>\n",
       "    </tr>\n",
       "    <tr>\n",
       "      <th>2</th>\n",
       "      <td>3</td>\n",
       "      <td>Iceland</td>\n",
       "      <td>83.0</td>\n",
       "      <td>39.2</td>\n",
       "      <td>62.0</td>\n",
       "      <td>88.4</td>\n",
       "      <td>86.8</td>\n",
       "      <td>120.3</td>\n",
       "    </tr>\n",
       "    <tr>\n",
       "      <th>3</th>\n",
       "      <td>4</td>\n",
       "      <td>Singapore</td>\n",
       "      <td>76.7</td>\n",
       "      <td>67.2</td>\n",
       "      <td>72.1</td>\n",
       "      <td>74.6</td>\n",
       "      <td>50.4</td>\n",
       "      <td>111.1</td>\n",
       "    </tr>\n",
       "    <tr>\n",
       "      <th>4</th>\n",
       "      <td>5</td>\n",
       "      <td>Barbados</td>\n",
       "      <td>76.6</td>\n",
       "      <td>19.0</td>\n",
       "      <td>48.9</td>\n",
       "      <td>80.8</td>\n",
       "      <td>69.4</td>\n",
       "      <td>43.5</td>\n",
       "    </tr>\n",
       "  </tbody>\n",
       "</table>\n",
       "</div>"
      ],
      "text/plain": [
       "   Rank      Country  Cost of Living Index  Rent Index  \\\n",
       "0     1  Switzerland                 101.1        46.5   \n",
       "1     2      Bahamas                  85.0        36.7   \n",
       "2     3      Iceland                  83.0        39.2   \n",
       "3     4    Singapore                  76.7        67.2   \n",
       "4     5     Barbados                  76.6        19.0   \n",
       "\n",
       "   Cost of Living Plus Rent Index  Groceries Index  Restaurant Price Index  \\\n",
       "0                            74.9            109.1                    97.0   \n",
       "1                            61.8             81.6                    83.3   \n",
       "2                            62.0             88.4                    86.8   \n",
       "3                            72.1             74.6                    50.4   \n",
       "4                            48.9             80.8                    69.4   \n",
       "\n",
       "   Local Purchasing Power Index  \n",
       "0                         158.7  \n",
       "1                          54.6  \n",
       "2                         120.3  \n",
       "3                         111.1  \n",
       "4                          43.5  "
      ]
     },
     "execution_count": 15,
     "metadata": {},
     "output_type": "execute_result"
    }
   ],
   "source": [
    "df.head()"
   ]
  },
  {
   "cell_type": "code",
   "execution_count": 17,
   "id": "358ddcfb-acdf-4b22-98c2-067b13c0e9b0",
   "metadata": {},
   "outputs": [
    {
     "data": {
      "text/plain": [
       "(121, 8)"
      ]
     },
     "execution_count": 17,
     "metadata": {},
     "output_type": "execute_result"
    }
   ],
   "source": [
    "df.shape"
   ]
  },
  {
   "cell_type": "code",
   "execution_count": 18,
   "id": "819ae0fa-1639-4d91-ab51-0a98a68499ee",
   "metadata": {},
   "outputs": [
    {
     "data": {
      "text/html": [
       "<div>\n",
       "<style scoped>\n",
       "    .dataframe tbody tr th:only-of-type {\n",
       "        vertical-align: middle;\n",
       "    }\n",
       "\n",
       "    .dataframe tbody tr th {\n",
       "        vertical-align: top;\n",
       "    }\n",
       "\n",
       "    .dataframe thead th {\n",
       "        text-align: right;\n",
       "    }\n",
       "</style>\n",
       "<table border=\"1\" class=\"dataframe\">\n",
       "  <thead>\n",
       "    <tr style=\"text-align: right;\">\n",
       "      <th></th>\n",
       "      <th>Rank</th>\n",
       "      <th>Cost of Living Index</th>\n",
       "      <th>Rent Index</th>\n",
       "      <th>Cost of Living Plus Rent Index</th>\n",
       "      <th>Groceries Index</th>\n",
       "      <th>Restaurant Price Index</th>\n",
       "      <th>Local Purchasing Power Index</th>\n",
       "    </tr>\n",
       "  </thead>\n",
       "  <tbody>\n",
       "    <tr>\n",
       "      <th>count</th>\n",
       "      <td>121.000000</td>\n",
       "      <td>121.000000</td>\n",
       "      <td>121.000000</td>\n",
       "      <td>121.000000</td>\n",
       "      <td>121.000000</td>\n",
       "      <td>121.000000</td>\n",
       "      <td>121.000000</td>\n",
       "    </tr>\n",
       "    <tr>\n",
       "      <th>mean</th>\n",
       "      <td>61.000000</td>\n",
       "      <td>43.555372</td>\n",
       "      <td>16.052893</td>\n",
       "      <td>30.357851</td>\n",
       "      <td>44.228926</td>\n",
       "      <td>36.471074</td>\n",
       "      <td>65.094215</td>\n",
       "    </tr>\n",
       "    <tr>\n",
       "      <th>std</th>\n",
       "      <td>35.073732</td>\n",
       "      <td>16.147574</td>\n",
       "      <td>11.412267</td>\n",
       "      <td>13.263721</td>\n",
       "      <td>17.055109</td>\n",
       "      <td>18.258110</td>\n",
       "      <td>39.569094</td>\n",
       "    </tr>\n",
       "    <tr>\n",
       "      <th>min</th>\n",
       "      <td>1.000000</td>\n",
       "      <td>18.800000</td>\n",
       "      <td>2.400000</td>\n",
       "      <td>11.100000</td>\n",
       "      <td>17.500000</td>\n",
       "      <td>12.800000</td>\n",
       "      <td>2.300000</td>\n",
       "    </tr>\n",
       "    <tr>\n",
       "      <th>25%</th>\n",
       "      <td>31.000000</td>\n",
       "      <td>30.200000</td>\n",
       "      <td>8.500000</td>\n",
       "      <td>19.800000</td>\n",
       "      <td>31.600000</td>\n",
       "      <td>21.600000</td>\n",
       "      <td>34.800000</td>\n",
       "    </tr>\n",
       "    <tr>\n",
       "      <th>50%</th>\n",
       "      <td>61.000000</td>\n",
       "      <td>39.500000</td>\n",
       "      <td>12.400000</td>\n",
       "      <td>27.000000</td>\n",
       "      <td>40.500000</td>\n",
       "      <td>33.100000</td>\n",
       "      <td>50.600000</td>\n",
       "    </tr>\n",
       "    <tr>\n",
       "      <th>75%</th>\n",
       "      <td>91.000000</td>\n",
       "      <td>52.800000</td>\n",
       "      <td>20.100000</td>\n",
       "      <td>37.000000</td>\n",
       "      <td>53.700000</td>\n",
       "      <td>47.200000</td>\n",
       "      <td>99.400000</td>\n",
       "    </tr>\n",
       "    <tr>\n",
       "      <th>max</th>\n",
       "      <td>121.000000</td>\n",
       "      <td>101.100000</td>\n",
       "      <td>67.200000</td>\n",
       "      <td>74.900000</td>\n",
       "      <td>109.100000</td>\n",
       "      <td>97.000000</td>\n",
       "      <td>182.500000</td>\n",
       "    </tr>\n",
       "  </tbody>\n",
       "</table>\n",
       "</div>"
      ],
      "text/plain": [
       "             Rank  Cost of Living Index  Rent Index  \\\n",
       "count  121.000000            121.000000  121.000000   \n",
       "mean    61.000000             43.555372   16.052893   \n",
       "std     35.073732             16.147574   11.412267   \n",
       "min      1.000000             18.800000    2.400000   \n",
       "25%     31.000000             30.200000    8.500000   \n",
       "50%     61.000000             39.500000   12.400000   \n",
       "75%     91.000000             52.800000   20.100000   \n",
       "max    121.000000            101.100000   67.200000   \n",
       "\n",
       "       Cost of Living Plus Rent Index  Groceries Index  \\\n",
       "count                      121.000000       121.000000   \n",
       "mean                        30.357851        44.228926   \n",
       "std                         13.263721        17.055109   \n",
       "min                         11.100000        17.500000   \n",
       "25%                         19.800000        31.600000   \n",
       "50%                         27.000000        40.500000   \n",
       "75%                         37.000000        53.700000   \n",
       "max                         74.900000       109.100000   \n",
       "\n",
       "       Restaurant Price Index  Local Purchasing Power Index  \n",
       "count              121.000000                    121.000000  \n",
       "mean                36.471074                     65.094215  \n",
       "std                 18.258110                     39.569094  \n",
       "min                 12.800000                      2.300000  \n",
       "25%                 21.600000                     34.800000  \n",
       "50%                 33.100000                     50.600000  \n",
       "75%                 47.200000                     99.400000  \n",
       "max                 97.000000                    182.500000  "
      ]
     },
     "execution_count": 18,
     "metadata": {},
     "output_type": "execute_result"
    }
   ],
   "source": [
    "df.describe()"
   ]
  },
  {
   "cell_type": "code",
   "execution_count": 22,
   "id": "699c8e8f-b5ac-49c5-a8b7-808bf50d5eca",
   "metadata": {},
   "outputs": [
    {
     "data": {
      "text/plain": [
       "Rank                              121\n",
       "Country                           121\n",
       "Cost of Living Index              107\n",
       "Rent Index                         99\n",
       "Cost of Living Plus Rent Index    104\n",
       "Groceries Index                   104\n",
       "Restaurant Price Index            112\n",
       "Local Purchasing Power Index      117\n",
       "dtype: int64"
      ]
     },
     "execution_count": 22,
     "metadata": {},
     "output_type": "execute_result"
    }
   ],
   "source": [
    "df.nunique()"
   ]
  },
  {
   "cell_type": "markdown",
   "id": "023c8996-b0a2-4336-b5f2-36d65bc8b9fc",
   "metadata": {},
   "source": [
    "We do not have any missing and duplicate rows. So, we move forward to start our analysis."
   ]
  },
  {
   "cell_type": "markdown",
   "id": "32923d64-7d29-4842-b821-27c3fda144c5",
   "metadata": {},
   "source": [
    "**1. Top 10 most expensive and least expensive countries to live in**"
   ]
  },
  {
   "cell_type": "code",
   "execution_count": 25,
   "id": "a99b6aeb-4bdf-4702-ba21-d11a1644f53c",
   "metadata": {},
   "outputs": [],
   "source": [
    "df_sorted=df.sort_values(by=\"Cost of Living Index\", ascending=False)"
   ]
  },
  {
   "cell_type": "code",
   "execution_count": 28,
   "id": "de02d07e-3483-4b88-b269-9e8f6eae65a1",
   "metadata": {},
   "outputs": [
    {
     "name": "stdout",
     "output_type": "stream",
     "text": [
      "Top 10 most expensive countries:\n",
      "             Country  Cost of Living Index\n",
      "0        Switzerland                 101.1\n",
      "1            Bahamas                  85.0\n",
      "2            Iceland                  83.0\n",
      "3          Singapore                  76.7\n",
      "4           Barbados                  76.6\n",
      "5             Norway                  76.0\n",
      "6            Denmark                  72.3\n",
      "7  Hong Kong (China)                  70.8\n",
      "8      United States                  70.4\n",
      "9          Australia                  70.2\n"
     ]
    }
   ],
   "source": [
    "print(\"Top 10 most expensive countries:\")\n",
    "print(df_sorted[['Country', 'Cost of Living Index']].head(10))"
   ]
  },
  {
   "cell_type": "code",
   "execution_count": 29,
   "id": "65511359-b7a6-4972-8fd2-63b4c2d4dcab",
   "metadata": {},
   "outputs": [
    {
     "name": "stdout",
     "output_type": "stream",
     "text": [
      "Top 10 least expensive countries:\n",
      "        Country  Cost of Living Index\n",
      "111       Nepal                  25.5\n",
      "112    Paraguay                  25.4\n",
      "113  Madagascar                  24.5\n",
      "114       Syria                  24.0\n",
      "115    Tanzania                  23.8\n",
      "116  Bangladesh                  22.5\n",
      "117       India                  21.2\n",
      "118       Egypt                  21.0\n",
      "119       Libya                  20.4\n",
      "120    Pakistan                  18.8\n"
     ]
    }
   ],
   "source": [
    "print(\"Top 10 least expensive countries:\")\n",
    "print(df_sorted[['Country', 'Cost of Living Index']].tail(10))"
   ]
  },
  {
   "cell_type": "markdown",
   "id": "6873690b-9234-4526-af1b-868013d6da4b",
   "metadata": {},
   "source": [
    " **2. Countries with the highest and lowest local purchasing power:**"
   ]
  },
  {
   "cell_type": "code",
   "execution_count": 30,
   "id": "6a05d1be-643e-4838-a548-c1bb8eb6d518",
   "metadata": {},
   "outputs": [
    {
     "name": "stdout",
     "output_type": "stream",
     "text": [
      "Top 10 countries with highest local purchasing power:\n",
      "                 Country  Local Purchasing Power Index\n",
      "19            Luxembourg                         182.5\n",
      "51                Kuwait                         161.8\n",
      "36                 Qatar                         161.1\n",
      "0            Switzerland                         158.7\n",
      "8          United States                         142.3\n",
      "50                  Oman                         139.8\n",
      "47          Saudi Arabia                         134.9\n",
      "26  United Arab Emirates                         127.9\n",
      "9              Australia                         127.4\n",
      "6                Denmark                         127.2\n"
     ]
    }
   ],
   "source": [
    "df_sorted_Lpp = df.sort_values(by=\"Local Purchasing Power Index\", ascending=False)\n",
    "print(\"Top 10 countries with highest local purchasing power:\")\n",
    "print(df_sorted_Lpp[['Country', 'Local Purchasing Power Index']].head(10))"
   ]
  },
  {
   "cell_type": "code",
   "execution_count": 31,
   "id": "ec484498-5bb2-4053-a378-e32d4afc3ce7",
   "metadata": {},
   "outputs": [
    {
     "name": "stdout",
     "output_type": "stream",
     "text": [
      "Top 10 countries with lowest local purchasing power:\n",
      "        Country  Local Purchasing Power Index\n",
      "118       Egypt                          20.0\n",
      "89        Ghana                          18.4\n",
      "99       Uganda                          17.8\n",
      "76    Sri Lanka                          17.5\n",
      "113  Madagascar                          15.6\n",
      "64    Venezuela                          14.7\n",
      "85      Nigeria                          11.0\n",
      "71     Cameroon                          10.5\n",
      "114       Syria                           5.5\n",
      "42         Cuba                           2.3\n"
     ]
    }
   ],
   "source": [
    "print(\"Top 10 countries with lowest local purchasing power:\")\n",
    "print(df_sorted_Lpp[['Country', 'Local Purchasing Power Index']].tail(10))"
   ]
  },
  {
   "cell_type": "markdown",
   "id": "6ba5d40b-9408-4643-bb90-0ab51885bdb1",
   "metadata": {},
   "source": [
    "**3. Correlation between cost of living and local purchasing power:**"
   ]
  },
  {
   "cell_type": "code",
   "execution_count": 37,
   "id": "6c69a2ed-bbf7-413d-ab46-5ef1134ba5d4",
   "metadata": {},
   "outputs": [
    {
     "name": "stdout",
     "output_type": "stream",
     "text": [
      "Correlation between Cost of Living and Local Purchasing Power: 0.692688\n"
     ]
    }
   ],
   "source": [
    "correlation = df['Cost of Living Index'].corr(df['Local Purchasing Power Index'])\n",
    "print(f\"Correlation between Cost of Living and Local Purchasing Power: {correlation:2f}\")"
   ]
  },
  {
   "cell_type": "code",
   "execution_count": 40,
   "id": "51bdbd1a-a07e-409f-a3c8-7b8ed47de933",
   "metadata": {},
   "outputs": [
    {
     "data": {
      "text/html": [
       "<div>\n",
       "<style scoped>\n",
       "    .dataframe tbody tr th:only-of-type {\n",
       "        vertical-align: middle;\n",
       "    }\n",
       "\n",
       "    .dataframe tbody tr th {\n",
       "        vertical-align: top;\n",
       "    }\n",
       "\n",
       "    .dataframe thead th {\n",
       "        text-align: right;\n",
       "    }\n",
       "</style>\n",
       "<table border=\"1\" class=\"dataframe\">\n",
       "  <thead>\n",
       "    <tr style=\"text-align: right;\">\n",
       "      <th></th>\n",
       "      <th>Rank</th>\n",
       "      <th>Cost of Living Index</th>\n",
       "      <th>Rent Index</th>\n",
       "      <th>Cost of Living Plus Rent Index</th>\n",
       "      <th>Groceries Index</th>\n",
       "      <th>Restaurant Price Index</th>\n",
       "      <th>Local Purchasing Power Index</th>\n",
       "    </tr>\n",
       "  </thead>\n",
       "  <tbody>\n",
       "    <tr>\n",
       "      <th>Rank</th>\n",
       "      <td>1.000000</td>\n",
       "      <td>-0.955524</td>\n",
       "      <td>-0.766485</td>\n",
       "      <td>-0.921281</td>\n",
       "      <td>-0.897443</td>\n",
       "      <td>-0.903357</td>\n",
       "      <td>-0.688270</td>\n",
       "    </tr>\n",
       "    <tr>\n",
       "      <th>Cost of Living Index</th>\n",
       "      <td>-0.955524</td>\n",
       "      <td>1.000000</td>\n",
       "      <td>0.820885</td>\n",
       "      <td>0.971780</td>\n",
       "      <td>0.958452</td>\n",
       "      <td>0.945483</td>\n",
       "      <td>0.692688</td>\n",
       "    </tr>\n",
       "    <tr>\n",
       "      <th>Rent Index</th>\n",
       "      <td>-0.766485</td>\n",
       "      <td>0.820885</td>\n",
       "      <td>1.000000</td>\n",
       "      <td>0.932425</td>\n",
       "      <td>0.770944</td>\n",
       "      <td>0.763537</td>\n",
       "      <td>0.683912</td>\n",
       "    </tr>\n",
       "    <tr>\n",
       "      <th>Cost of Living Plus Rent Index</th>\n",
       "      <td>-0.921281</td>\n",
       "      <td>0.971780</td>\n",
       "      <td>0.932425</td>\n",
       "      <td>1.000000</td>\n",
       "      <td>0.924935</td>\n",
       "      <td>0.913618</td>\n",
       "      <td>0.720701</td>\n",
       "    </tr>\n",
       "    <tr>\n",
       "      <th>Groceries Index</th>\n",
       "      <td>-0.897443</td>\n",
       "      <td>0.958452</td>\n",
       "      <td>0.770944</td>\n",
       "      <td>0.924935</td>\n",
       "      <td>1.000000</td>\n",
       "      <td>0.855057</td>\n",
       "      <td>0.640634</td>\n",
       "    </tr>\n",
       "    <tr>\n",
       "      <th>Restaurant Price Index</th>\n",
       "      <td>-0.903357</td>\n",
       "      <td>0.945483</td>\n",
       "      <td>0.763537</td>\n",
       "      <td>0.913618</td>\n",
       "      <td>0.855057</td>\n",
       "      <td>1.000000</td>\n",
       "      <td>0.673539</td>\n",
       "    </tr>\n",
       "    <tr>\n",
       "      <th>Local Purchasing Power Index</th>\n",
       "      <td>-0.688270</td>\n",
       "      <td>0.692688</td>\n",
       "      <td>0.683912</td>\n",
       "      <td>0.720701</td>\n",
       "      <td>0.640634</td>\n",
       "      <td>0.673539</td>\n",
       "      <td>1.000000</td>\n",
       "    </tr>\n",
       "  </tbody>\n",
       "</table>\n",
       "</div>"
      ],
      "text/plain": [
       "                                    Rank  Cost of Living Index  Rent Index  \\\n",
       "Rank                            1.000000             -0.955524   -0.766485   \n",
       "Cost of Living Index           -0.955524              1.000000    0.820885   \n",
       "Rent Index                     -0.766485              0.820885    1.000000   \n",
       "Cost of Living Plus Rent Index -0.921281              0.971780    0.932425   \n",
       "Groceries Index                -0.897443              0.958452    0.770944   \n",
       "Restaurant Price Index         -0.903357              0.945483    0.763537   \n",
       "Local Purchasing Power Index   -0.688270              0.692688    0.683912   \n",
       "\n",
       "                                Cost of Living Plus Rent Index  \\\n",
       "Rank                                                 -0.921281   \n",
       "Cost of Living Index                                  0.971780   \n",
       "Rent Index                                            0.932425   \n",
       "Cost of Living Plus Rent Index                        1.000000   \n",
       "Groceries Index                                       0.924935   \n",
       "Restaurant Price Index                                0.913618   \n",
       "Local Purchasing Power Index                          0.720701   \n",
       "\n",
       "                                Groceries Index  Restaurant Price Index  \\\n",
       "Rank                                  -0.897443               -0.903357   \n",
       "Cost of Living Index                   0.958452                0.945483   \n",
       "Rent Index                             0.770944                0.763537   \n",
       "Cost of Living Plus Rent Index         0.924935                0.913618   \n",
       "Groceries Index                        1.000000                0.855057   \n",
       "Restaurant Price Index                 0.855057                1.000000   \n",
       "Local Purchasing Power Index           0.640634                0.673539   \n",
       "\n",
       "                                Local Purchasing Power Index  \n",
       "Rank                                               -0.688270  \n",
       "Cost of Living Index                                0.692688  \n",
       "Rent Index                                          0.683912  \n",
       "Cost of Living Plus Rent Index                      0.720701  \n",
       "Groceries Index                                     0.640634  \n",
       "Restaurant Price Index                              0.673539  \n",
       "Local Purchasing Power Index                        1.000000  "
      ]
     },
     "execution_count": 40,
     "metadata": {},
     "output_type": "execute_result"
    }
   ],
   "source": [
    "df.select_dtypes(include=\"number\").corr()"
   ]
  },
  {
   "cell_type": "markdown",
   "id": "d00052f8-4be6-40ce-bb6a-4ae6e1953971",
   "metadata": {},
   "source": [
    "**Cost of Living Index:**\n",
    "The Cost of Living Index has a very strong positive correlation with the Cost of Living Plus Rent Index (0.97) and a strong positive correlation with the Groceries Index (0.96). This suggests that in countries where the overall cost of living is high, the cost of groceries and the combined cost of living plus rent are also likely to be high.\n",
    "\n",
    "**Rent Index:**\n",
    "The Rent Index shows a strong positive correlation with the Cost of Living Plus Rent Index (0.93) and the Cost of Living Index (0.82). This indicates that in countries where rent is expensive, the overall cost of living tends to be higher, and the combined cost of living plus rent index also reflects this.\n",
    "\n",
    "**Cost of Living Plus Rent Index:**\n",
    "This index is highly correlated with the Cost of Living Index (0.97) and Rent Index (0.93). It combines the effects of both the cost of living and rent, so it's natural that it would be strongly related to both. High values here suggest that both living expenses and rent are expensive in these countries.\n",
    "\n",
    "**Groceries Index:**\n",
    "The Groceries Index is strongly correlated with the Cost of Living Index (0.96) and the Restaurant Price Index (0.86). This suggests that in countries where groceries are expensive, the overall cost of living and restaurant prices are also likely to be high.\n",
    "\n",
    "**Restaurant Price Index:**\n",
    "This index is strongly correlated with the Cost of Living Index (0.95) and the Groceries Index (0.86), implying that in places where eating out is costly, the overall cost of living and grocery prices are also high.\n",
    "\n",
    "**Local Purchasing Power Index:**\n",
    "The Local Purchasing Power Index has lower correlations with the other indices compared to the others, but it still shows moderate correlations. This index reflects the relative purchasing power of a country's citizens, and its positive correlation with the Cost of Living Index (0.69) suggests that higher purchasing power is somewhat associated with a higher cost of living."
   ]
  },
  {
   "cell_type": "code",
   "execution_count": 41,
   "id": "4b74830c-f81f-41c0-b74c-39a6bdaf0f0e",
   "metadata": {},
   "outputs": [
    {
     "data": {
      "image/png": "[encoded data removed]",
      "text/plain": [
       "<Figure size 800x500 with 1 Axes>"
      ]
     },
     "metadata": {},
     "output_type": "display_data"
    }
   ],
   "source": [
    "plt.figure(figsize=(8, 5))\n",
    "plt.scatter(df['Cost of Living Index'], df['Local Purchasing Power Index'])\n",
    "plt.xlabel('Cost of Living Index')\n",
    "plt.ylabel('Local Purchasing Power Index')\n",
    "plt.title('Cost of Living vs Local Purchasing Power')\n",
    "plt.show()"
   ]
  },
  {
   "cell_type": "code",
   "execution_count": 42,
   "id": "2f348a7b-a5f3-4a8a-8667-e4e9571419cb",
   "metadata": {},
   "outputs": [
    {
     "data": {
      "image/png": "[encoded data removed]",
      "text/plain": [
       "<Figure size 800x500 with 1 Axes>"
      ]
     },
     "metadata": {},
     "output_type": "display_data"
    }
   ],
   "source": [
    "plt.figure(figsize=(8, 5))\n",
    "plt.scatter(df['Cost of Living Index'], df['Local Purchasing Power Index'])\n",
    "plt.xlabel('Cost of Living Index')\n",
    "plt.ylabel('Local Purchasing Power Index')\n",
    "plt.title('Cost of Living vs Local Purchasing Power')\n",
    "plt.show()"
   ]
  },
  {
   "cell_type": "code",
   "execution_count": 44,
   "id": "979ff8d2-5b2e-42cf-88de-b5427747197f",
   "metadata": {},
   "outputs": [
    {
     "data": {
      "image/png": "[encoded data removed]",
      "text/plain": [
       "<Figure size 800x500 with 1 Axes>"
      ]
     },
     "metadata": {},
     "output_type": "display_data"
    }
   ],
   "source": [
    "plt.figure(figsize=(8, 5))\n",
    "plt.scatter(df['Cost of Living Index'], df['Restaurant Price Index'],color='magenta')\n",
    "plt.xlabel('Cost of Living Index')\n",
    "plt.ylabel('Local Purchasing Power Index')\n",
    "plt.title('Cost of Living vs Restaurant Price Index')\n",
    "plt.show()"
   ]
  },
  {
   "cell_type": "code",
   "execution_count": 45,
   "id": "df45c162-72a4-4c10-9f9e-abe8b9e6a01c",
   "metadata": {},
   "outputs": [],
   "source": [
    "df['Rent Impact'] = df['Cost of Living Plus Rent Index'] - df['Cost of Living Index']\n",
    "df_rent_impact = df.sort_values('Rent Impact', ascending=False)"
   ]
  },
  {
   "cell_type": "markdown",
   "id": "68f1b24e-e1e6-4e07-a877-4ff00100ee30",
   "metadata": {},
   "source": [
    "**4. Countries with the biggest disparity between grocery costs and restaurant prices:**"
   ]
  },
  {
   "cell_type": "code",
   "execution_count": 48,
   "id": "e7f06bb4-ec27-41f1-8613-2898651af092",
   "metadata": {
    "scrolled": true
   },
   "outputs": [
    {
     "name": "stdout",
     "output_type": "stream",
     "text": [
      "Top 10 Countries with the Biggest Disparity Between Grocery Costs and Restaurant Prices:\n",
      "               Country  Groceries Index  Restaurant Price Index  Disparity\n",
      "23         South Korea             81.4                    31.4       50.0\n",
      "7    Hong Kong (China)             84.6                    46.2       38.4\n",
      "48              Taiwan             60.1                    23.0       37.1\n",
      "76           Sri Lanka             49.3                    18.5       30.8\n",
      "45               Japan             53.7                    27.8       25.9\n",
      "3            Singapore             74.6                    50.4       24.2\n",
      "29             Jamaica             62.0                    38.8       23.2\n",
      "100            Algeria             36.8                    14.0       22.8\n",
      "78            Thailand             40.5                    18.3       22.2\n",
      "70            Cambodia             43.5                    22.7       20.8\n"
     ]
    }
   ],
   "source": [
    "df['Disparity'] = abs(df['Groceries Index'] - df['Restaurant Price Index'])\n",
    "df_disparity = df.sort_values(by='Disparity', ascending=False)\n",
    "top_disparity = df_disparity[['Country', 'Groceries Index', 'Restaurant Price Index', 'Disparity']].head(10)\n",
    "print(\"Top 10 Countries with the Biggest Disparity Between Grocery Costs and Restaurant Prices:\")\n",
    "print(top_disparity)"
   ]
  },
  {
   "cell_type": "code",
   "execution_count": 49,
   "id": "2f68f06c-ec47-4037-b1e4-64f72ddc13b2",
   "metadata": {},
   "outputs": [
    {
     "name": "stdout",
     "output_type": "stream",
     "text": [
      "Top 10 Countries with the lowest Disparity Between Grocery Costs and Restaurant Prices:\n",
      "          Country  Groceries Index  Restaurant Price Index  Disparity\n",
      "17    Netherlands             59.9                    61.2        1.3\n",
      "46        Croatia             43.5                    42.2        1.3\n",
      "68        Romania             36.6                    35.5        1.1\n",
      "88         Russia             28.8                    28.0        0.8\n",
      "40      Lithuania             44.2                    43.5        0.7\n",
      "71       Cameroon             34.6                    35.3        0.7\n",
      "16        Finland             63.0                    63.6        0.6\n",
      "109       Belarus             25.4                    24.9        0.5\n",
      "61     Montenegro             36.7                    36.3        0.4\n",
      "77   South Africa             29.7                    29.5        0.2\n"
     ]
    }
   ],
   "source": [
    "df['Disparity'] = abs(df['Groceries Index'] - df['Restaurant Price Index'])\n",
    "df_disparity = df.sort_values(by='Disparity', ascending=False)\n",
    "top_disparity_l = df_disparity[['Country', 'Groceries Index', 'Restaurant Price Index', 'Disparity']].tail(10)\n",
    "print(\"Top 10 Countries with the lowest Disparity Between Grocery Costs and Restaurant Prices:\")\n",
    "print(top_disparity_l)"
   ]
  },
  {
   "cell_type": "code",
   "execution_count": 56,
   "id": "ffbc108d-d5f0-42eb-be70-e4508dd9e509",
   "metadata": {},
   "outputs": [],
   "source": [
    "countries = top_disparity['Country']\n",
    "disparities = top_disparity['Disparity']"
   ]
  },
  {
   "cell_type": "code",
   "execution_count": 63,
   "id": "71577086-fb5d-406f-a1bd-d4c0624d45e0",
   "metadata": {},
   "outputs": [
    {
     "data": {
      "image/png": "[encoded data removed]",
      "text/plain": [
       "<Figure size 1600x600 with 1 Axes>"
      ]
     },
     "metadata": {},
     "output_type": "display_data"
    }
   ],
   "source": [
    "plt.figure(figsize=(16, 6))\n",
    "plt.bar(countries, disparities, color='grey')\n",
    "plt.title('Top 10 Countries with the Biggest Disparity Between Grocery Costs and Restaurant Prices')\n",
    "plt.xlabel('Disparity (|Groceries Index - Restaurant Price Index|)')\n",
    "plt.ylabel('Country')\n",
    "plt.show()"
   ]
  },
  {
   "cell_type": "markdown",
   "id": "f832c170-3de6-4798-ab76-d1f79b61f6c1",
   "metadata": {},
   "source": [
    "**Conclusion:**\n",
    "\n",
    "The analysis of global cost of living data reveals critical insights into the economic landscape across different countries. South Korea, Hong Kong (China), and Taiwan emerged as the countries with the most significant disparities between grocery costs and restaurant prices, suggesting that in these regions, consumers might find dining out to be relatively more affordable than cooking at home. This dynamic could be influenced by factors such as import tariffs, local food production, and labor costs in the restaurant industry.\n",
    "\n",
    "The study also highlighted Switzerland, Norway, and Iceland as the most expensive countries to live in, reflecting their high standards of living but also the substantial financial burden on residents. In contrast, countries like Pakistan, India, and Afghanistan were found to be the least expensive, indicating lower overall costs but potentially reflecting lower levels of income and economic development.\n",
    "\n",
    "Furthermore, the correlation analysis between cost of living and local purchasing power showed that countries with higher costs often have correspondingly high purchasing power, though not universally. This suggests that while high costs may be a burden, they are often matched by stronger local economies, allowing residents to maintain a reasonable standard of living.\n",
    "\n",
    "In conclusion, this analysis underscores the complexity of global economic conditions, where high costs do not always translate to lower purchasing power, and significant disparities in food-related expenses may drive unique consumer behaviors in different regions. These insights are crucial for individuals making decisions about relocation, businesses considering market entry, and policymakers aiming to address economic inequalities."
   ]
  }
 ],
 "metadata": {
  "kernelspec": {
   "display_name": "Python 3 (ipykernel)",
   "language": "python",
   "name": "python3"
  },
  "language_info": {
   "codemirror_mode": {
    "name": "ipython",
    "version": 3
   },
   "file_extension": ".py",
   "mimetype": "text/x-python",
   "name": "python",
   "nbconvert_exporter": "python",
   "pygments_lexer": "ipython3",
   "version": "3.12.5"
  }
 },
 "nbformat": 4,
 "nbformat_minor": 5
}
